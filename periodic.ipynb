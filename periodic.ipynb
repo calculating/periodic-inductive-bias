{
 "cells": [
  {
   "cell_type": "code",
   "execution_count": 1,
   "metadata": {},
   "outputs": [],
   "source": [
    "import torch as t\n",
    "import matplotlib.pyplot as plt\n",
    "import wandb"
   ]
  },
  {
   "cell_type": "code",
   "execution_count": 2,
   "metadata": {},
   "outputs": [],
   "source": [
    "range_mod = 10\n",
    "freq = t.rand(1) + 1\n"
   ]
  },
  {
   "cell_type": "code",
   "execution_count": 3,
   "metadata": {},
   "outputs": [],
   "source": [
    "simple_dense = t.nn.Sequential(\n",
    "    t.nn.Linear(1, 256),\n",
    "    t.nn.GELU(),\n",
    "    t.nn.Linear(256, 256),\n",
    "    t.nn.GELU(),\n",
    "    t.nn.Linear(256, 256),\n",
    "    t.nn.GELU(),\n",
    "    t.nn.Linear(256, 1)\n",
    ")\n",
    "\n",
    "optimizer = t.optim.SGD(simple_dense.parameters(), lr=0.01)\n",
    "loss_fn = t.nn.MSELoss()\n"
   ]
  },
  {
   "cell_type": "code",
   "execution_count": 4,
   "metadata": {},
   "outputs": [
    {
     "data": {
      "image/png": "[encoded data removed]",
      "text/plain": [
       "<Figure size 2500x300 with 1 Axes>"
      ]
     },
     "metadata": {},
     "output_type": "display_data"
    }
   ],
   "source": [
    "x_all = t.rand(100, 1) * range_mod * 2\n",
    "y_all = t.sin(freq * x_all)\n",
    "\n",
    "\n",
    "plt.figure(figsize=(25,3))\n",
    "plt.plot(t.squeeze(x_all).numpy(), t.squeeze(y_all).numpy(), 'bo')\n",
    "plt.show()"
   ]
  },
  {
   "cell_type": "code",
   "execution_count": 5,
   "metadata": {},
   "outputs": [],
   "source": [
    "batch_size = 2048\n",
    "steps = 10000"
   ]
  },
  {
   "cell_type": "code",
   "execution_count": 6,
   "metadata": {},
   "outputs": [
    {
     "name": "stderr",
     "output_type": "stream",
     "text": [
      "Failed to detect the name of this notebook, you can set it manually with the WANDB_NOTEBOOK_NAME environment variable to enable code saving.\n",
      "\u001b[34m\u001b[1mwandb\u001b[0m: Currently logged in as: \u001b[33mcalculating\u001b[0m. Use \u001b[1m`wandb login --relogin`\u001b[0m to force relogin\n"
     ]
    },
    {
     "data": {
      "text/html": [
       "Tracking run with wandb version 0.15.4"
      ],
      "text/plain": [
       "<IPython.core.display.HTML object>"
      ]
     },
     "metadata": {},
     "output_type": "display_data"
    },
    {
     "data": {
      "text/html": [
       "Run data is saved locally in <code>/Users/galen/Documents/research/function primitives/wandb/run-20230609_114057-dojhj9fs</code>"
      ],
      "text/plain": [
       "<IPython.core.display.HTML object>"
      ]
     },
     "metadata": {},
     "output_type": "display_data"
    },
    {
     "data": {
      "text/html": [
       "Syncing run <strong><a href='https://wandb.ai/calculating/period%20piece/runs/dojhj9fs' target=\"_blank\">sunny-capybara-5</a></strong> to <a href='https://wandb.ai/calculating/period%20piece' target=\"_blank\">Weights & Biases</a> (<a href='https://wandb.me/run' target=\"_blank\">docs</a>)<br/>"
      ],
      "text/plain": [
       "<IPython.core.display.HTML object>"
      ]
     },
     "metadata": {},
     "output_type": "display_data"
    },
    {
     "data": {
      "text/html": [
       " View project at <a href='https://wandb.ai/calculating/period%20piece' target=\"_blank\">https://wandb.ai/calculating/period%20piece</a>"
      ],
      "text/plain": [
       "<IPython.core.display.HTML object>"
      ]
     },
     "metadata": {},
     "output_type": "display_data"
    },
    {
     "data": {
      "text/html": [
       " View run at <a href='https://wandb.ai/calculating/period%20piece/runs/dojhj9fs' target=\"_blank\">https://wandb.ai/calculating/period%20piece/runs/dojhj9fs</a>"
      ],
      "text/plain": [
       "<IPython.core.display.HTML object>"
      ]
     },
     "metadata": {},
     "output_type": "display_data"
    },
    {
     "name": "stdout",
     "output_type": "stream",
     "text": [
      "0\n",
      "1000\n",
      "2000\n",
      "3000\n",
      "4000\n",
      "5000\n",
      "6000\n",
      "7000\n",
      "8000\n",
      "9000\n"
     ]
    },
    {
     "data": {
      "text/html": [
       "Waiting for W&B process to finish... <strong style=\"color:green\">(success).</strong>"
      ],
      "text/plain": [
       "<IPython.core.display.HTML object>"
      ]
     },
     "metadata": {},
     "output_type": "display_data"
    },
    {
     "data": {
      "application/vnd.jupyter.widget-view+json": {
       "model_id": "72233cf6ed394bc6b743785a83dd9051",
       "version_major": 2,
       "version_minor": 0
      },
      "text/plain": [
       "VBox(children=(Label(value='0.080 MB of 0.080 MB uploaded (0.000 MB deduped)\\r'), FloatProgress(value=1.0, max…"
      ]
     },
     "metadata": {},
     "output_type": "display_data"
    },
    {
     "data": {
      "text/html": [
       "<style>\n",
       "    table.wandb td:nth-child(1) { padding: 0 10px; text-align: left ; width: auto;} td:nth-child(2) {text-align: left ; width: 100%}\n",
       "    .wandb-row { display: flex; flex-direction: row; flex-wrap: wrap; justify-content: flex-start; width: 100% }\n",
       "    .wandb-col { display: flex; flex-direction: column; flex-basis: 100%; flex: 1; padding: 10px; }\n",
       "    </style>\n",
       "<div class=\"wandb-row\"><div class=\"wandb-col\"><h3>Run history:</h3><br/><table class=\"wandb\"><tr><td>batch</td><td>▁▁▁▂▂▂▂▂▂▃▃▃▃▃▄▄▄▄▄▄▅▅▅▅▅▅▆▆▆▆▆▇▇▇▇▇▇███</td></tr><tr><td>test loss</td><td>▁▁▁▁▁▁▁▂▂▂▂▂▄▃▄▅▅▅▆▆▆▆▆▇▇▇▇███▇█████████</td></tr><tr><td>train loss</td><td>█▇▇▇▇▆▆▆▅▅▅▄▃▃▃▂▂▂▂▁▂▂▂▁▁▁▁▁▁▁▁▁▁▁▁▁▁▁▁▁</td></tr></table><br/></div><div class=\"wandb-col\"><h3>Run summary:</h3><br/><table class=\"wandb\"><tr><td>batch</td><td>9990</td></tr><tr><td>test loss</td><td>8.10231</td></tr><tr><td>train loss</td><td>0.00384</td></tr></table><br/></div></div>"
      ],
      "text/plain": [
       "<IPython.core.display.HTML object>"
      ]
     },
     "metadata": {},
     "output_type": "display_data"
    },
    {
     "data": {
      "text/html": [
       " View run <strong style=\"color:#cdcd00\">sunny-capybara-5</strong> at: <a href='https://wandb.ai/calculating/period%20piece/runs/dojhj9fs' target=\"_blank\">https://wandb.ai/calculating/period%20piece/runs/dojhj9fs</a><br/>Synced 6 W&B file(s), 10 media file(s), 10 artifact file(s) and 0 other file(s)"
      ],
      "text/plain": [
       "<IPython.core.display.HTML object>"
      ]
     },
     "metadata": {},
     "output_type": "display_data"
    },
    {
     "data": {
      "text/html": [
       "Find logs at: <code>./wandb/run-20230609_114057-dojhj9fs/logs</code>"
      ],
      "text/plain": [
       "<IPython.core.display.HTML object>"
      ]
     },
     "metadata": {},
     "output_type": "display_data"
    }
   ],
   "source": [
    "wandb.init(project=\"period piece\")\n",
    "wandb.watch(simple_dense)\n",
    "\n",
    "for i in range(steps):\n",
    "    x_train = t.rand(batch_size, 1) * range_mod\n",
    "    y_train = t.sin(freq * x_train)\n",
    "\n",
    "    optimizer.zero_grad()\n",
    "    y_pred = simple_dense(x_train)\n",
    "    loss = loss_fn(y_pred, y_train)\n",
    "    loss.backward()\n",
    "    optimizer.step()\n",
    "\n",
    "    if i % 10 == 0:\n",
    "        with t.no_grad():\n",
    "            p_all = simple_dense(x_all)\n",
    "            test_loss = loss_fn(p_all, y_all)\n",
    "\n",
    "            wandb.log({'train loss': loss.item(), 'test loss': test_loss.item(), 'batch': i})\n",
    "\n",
    "            if i % 1000 == 0:\n",
    "                print(i)\n",
    "                x_points = t.squeeze(x_all).numpy()\n",
    "                y_points = t.squeeze(p_all).numpy()\n",
    "                data = [[x_points, y_points]]\n",
    "                table = wandb.Table(data=data, columns = [\"x\", \"y\"])\n",
    "                wandb.log({\"curve\": wandb.plot.line(table, \"x\", \"y\", title=\"Curve\")})\n",
    "\n",
    "wandb.finish()\n",
    "\n",
    "\n"
   ]
  },
  {
   "cell_type": "code",
   "execution_count": null,
   "metadata": {},
   "outputs": [],
   "source": []
  }
 ],
 "metadata": {
  "kernelspec": {
   "display_name": "base",
   "language": "python",
   "name": "python3"
  },
  "language_info": {
   "codemirror_mode": {
    "name": "ipython",
    "version": 3
   },
   "file_extension": ".py",
   "mimetype": "text/x-python",
   "name": "python",
   "nbconvert_exporter": "python",
   "pygments_lexer": "ipython3",
   "version": "3.10.9"
  },
  "orig_nbformat": 4
 },
 "nbformat": 4,
 "nbformat_minor": 2
}
